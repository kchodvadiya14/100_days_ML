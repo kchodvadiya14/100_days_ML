{
 "cells": [
  {
   "cell_type": "code",
   "execution_count": 50,
   "id": "669589e6-c173-43ec-a897-5ff27f0db92a",
   "metadata": {},
   "outputs": [],
   "source": [
    "#Steps\n",
    "\n",
    "# 1.Preprocess + EDA + Feature Selection\n",
    "# 2.Extract Input and output cols\n",
    "# 3.Scale the values\n",
    "# 4.Train test split\n",
    "# 5.Train the model\n",
    "# 6.Evaluate the model/model selection\n",
    "# 7.Deploy the model"
   ]
  },
  {
   "cell_type": "code",
   "execution_count": 61,
   "id": "6e030059-705a-45e7-9401-a82e7499cfb8",
   "metadata": {},
   "outputs": [],
   "source": [
    "import pandas as pd\n",
    "import numpy as np\n",
    "import matplotlib.pyplot as plt"
   ]
  },
  {
   "cell_type": "code",
   "execution_count": 63,
   "id": "860b56d3-e51f-47bd-a7e6-699159fc69a5",
   "metadata": {},
   "outputs": [],
   "source": [
    "df = pd.read_csv(\"placement.csv\")"
   ]
  },
  {
   "cell_type": "code",
   "execution_count": 65,
   "id": "6dc60dd5-cda4-4986-b10f-c3243214ff1d",
   "metadata": {},
   "outputs": [
    {
     "data": {
      "text/html": [
       "<div>\n",
       "<style scoped>\n",
       "    .dataframe tbody tr th:only-of-type {\n",
       "        vertical-align: middle;\n",
       "    }\n",
       "\n",
       "    .dataframe tbody tr th {\n",
       "        vertical-align: top;\n",
       "    }\n",
       "\n",
       "    .dataframe thead th {\n",
       "        text-align: right;\n",
       "    }\n",
       "</style>\n",
       "<table border=\"1\" class=\"dataframe\">\n",
       "  <thead>\n",
       "    <tr style=\"text-align: right;\">\n",
       "      <th></th>\n",
       "      <th>Unnamed: 0</th>\n",
       "      <th>cgpa</th>\n",
       "      <th>iq</th>\n",
       "      <th>placement</th>\n",
       "    </tr>\n",
       "  </thead>\n",
       "  <tbody>\n",
       "    <tr>\n",
       "      <th>count</th>\n",
       "      <td>100.000000</td>\n",
       "      <td>100.000000</td>\n",
       "      <td>100.000000</td>\n",
       "      <td>100.000000</td>\n",
       "    </tr>\n",
       "    <tr>\n",
       "      <th>mean</th>\n",
       "      <td>49.500000</td>\n",
       "      <td>5.991000</td>\n",
       "      <td>123.580000</td>\n",
       "      <td>0.500000</td>\n",
       "    </tr>\n",
       "    <tr>\n",
       "      <th>std</th>\n",
       "      <td>29.011492</td>\n",
       "      <td>1.143634</td>\n",
       "      <td>39.944198</td>\n",
       "      <td>0.502519</td>\n",
       "    </tr>\n",
       "    <tr>\n",
       "      <th>min</th>\n",
       "      <td>0.000000</td>\n",
       "      <td>3.300000</td>\n",
       "      <td>37.000000</td>\n",
       "      <td>0.000000</td>\n",
       "    </tr>\n",
       "    <tr>\n",
       "      <th>25%</th>\n",
       "      <td>24.750000</td>\n",
       "      <td>5.075000</td>\n",
       "      <td>101.500000</td>\n",
       "      <td>0.000000</td>\n",
       "    </tr>\n",
       "    <tr>\n",
       "      <th>50%</th>\n",
       "      <td>49.500000</td>\n",
       "      <td>6.000000</td>\n",
       "      <td>127.500000</td>\n",
       "      <td>0.500000</td>\n",
       "    </tr>\n",
       "    <tr>\n",
       "      <th>75%</th>\n",
       "      <td>74.250000</td>\n",
       "      <td>6.900000</td>\n",
       "      <td>149.000000</td>\n",
       "      <td>1.000000</td>\n",
       "    </tr>\n",
       "    <tr>\n",
       "      <th>max</th>\n",
       "      <td>99.000000</td>\n",
       "      <td>8.500000</td>\n",
       "      <td>233.000000</td>\n",
       "      <td>1.000000</td>\n",
       "    </tr>\n",
       "  </tbody>\n",
       "</table>\n",
       "</div>"
      ],
      "text/plain": [
       "       Unnamed: 0        cgpa          iq   placement\n",
       "count  100.000000  100.000000  100.000000  100.000000\n",
       "mean    49.500000    5.991000  123.580000    0.500000\n",
       "std     29.011492    1.143634   39.944198    0.502519\n",
       "min      0.000000    3.300000   37.000000    0.000000\n",
       "25%     24.750000    5.075000  101.500000    0.000000\n",
       "50%     49.500000    6.000000  127.500000    0.500000\n",
       "75%     74.250000    6.900000  149.000000    1.000000\n",
       "max     99.000000    8.500000  233.000000    1.000000"
      ]
     },
     "execution_count": 65,
     "metadata": {},
     "output_type": "execute_result"
    }
   ],
   "source": [
    "df.head()\n",
    "df.describe()"
   ]
  },
  {
   "cell_type": "code",
   "execution_count": 67,
   "id": "2244d015-c3f5-42ca-ba48-12c5d0c4e9f8",
   "metadata": {},
   "outputs": [
    {
     "name": "stdout",
     "output_type": "stream",
     "text": [
      "<class 'pandas.core.frame.DataFrame'>\n",
      "RangeIndex: 100 entries, 0 to 99\n",
      "Data columns (total 4 columns):\n",
      " #   Column      Non-Null Count  Dtype  \n",
      "---  ------      --------------  -----  \n",
      " 0   Unnamed: 0  100 non-null    int64  \n",
      " 1   cgpa        100 non-null    float64\n",
      " 2   iq          100 non-null    float64\n",
      " 3   placement   100 non-null    int64  \n",
      "dtypes: float64(2), int64(2)\n",
      "memory usage: 3.3 KB\n"
     ]
    }
   ],
   "source": [
    "df.info()"
   ]
  },
  {
   "cell_type": "code",
   "execution_count": 69,
   "id": "33d02377-bd97-4943-9337-be42f5445b37",
   "metadata": {},
   "outputs": [
    {
     "data": {
      "text/plain": [
       "(100, 4)"
      ]
     },
     "execution_count": 69,
     "metadata": {},
     "output_type": "execute_result"
    }
   ],
   "source": [
    "df.shape"
   ]
  },
  {
   "cell_type": "code",
   "execution_count": 71,
   "id": "8b43816f-2596-4fd9-be4f-b277c3dd8228",
   "metadata": {},
   "outputs": [],
   "source": [
    "df=df.iloc[:,1:]"
   ]
  },
  {
   "cell_type": "code",
   "execution_count": 73,
   "id": "545004ad-8e0d-47c7-a7df-968e1c9f5bc1",
   "metadata": {},
   "outputs": [
    {
     "data": {
      "text/plain": [
       "(100, 3)"
      ]
     },
     "execution_count": 73,
     "metadata": {},
     "output_type": "execute_result"
    }
   ],
   "source": [
    "df.shape"
   ]
  },
  {
   "cell_type": "code",
   "execution_count": 75,
   "id": "c515cb66-5e98-41d0-bb14-7b51be4bfd1a",
   "metadata": {},
   "outputs": [
    {
     "data": {
      "text/html": [
       "<div>\n",
       "<style scoped>\n",
       "    .dataframe tbody tr th:only-of-type {\n",
       "        vertical-align: middle;\n",
       "    }\n",
       "\n",
       "    .dataframe tbody tr th {\n",
       "        vertical-align: top;\n",
       "    }\n",
       "\n",
       "    .dataframe thead th {\n",
       "        text-align: right;\n",
       "    }\n",
       "</style>\n",
       "<table border=\"1\" class=\"dataframe\">\n",
       "  <thead>\n",
       "    <tr style=\"text-align: right;\">\n",
       "      <th></th>\n",
       "      <th>cgpa</th>\n",
       "      <th>iq</th>\n",
       "      <th>placement</th>\n",
       "    </tr>\n",
       "  </thead>\n",
       "  <tbody>\n",
       "    <tr>\n",
       "      <th>0</th>\n",
       "      <td>6.8</td>\n",
       "      <td>123.0</td>\n",
       "      <td>1</td>\n",
       "    </tr>\n",
       "    <tr>\n",
       "      <th>1</th>\n",
       "      <td>5.9</td>\n",
       "      <td>106.0</td>\n",
       "      <td>0</td>\n",
       "    </tr>\n",
       "    <tr>\n",
       "      <th>2</th>\n",
       "      <td>5.3</td>\n",
       "      <td>121.0</td>\n",
       "      <td>0</td>\n",
       "    </tr>\n",
       "    <tr>\n",
       "      <th>3</th>\n",
       "      <td>7.4</td>\n",
       "      <td>132.0</td>\n",
       "      <td>1</td>\n",
       "    </tr>\n",
       "    <tr>\n",
       "      <th>4</th>\n",
       "      <td>5.8</td>\n",
       "      <td>142.0</td>\n",
       "      <td>0</td>\n",
       "    </tr>\n",
       "  </tbody>\n",
       "</table>\n",
       "</div>"
      ],
      "text/plain": [
       "   cgpa     iq  placement\n",
       "0   6.8  123.0          1\n",
       "1   5.9  106.0          0\n",
       "2   5.3  121.0          0\n",
       "3   7.4  132.0          1\n",
       "4   5.8  142.0          0"
      ]
     },
     "execution_count": 75,
     "metadata": {},
     "output_type": "execute_result"
    }
   ],
   "source": [
    "df.head()"
   ]
  },
  {
   "cell_type": "markdown",
   "id": "d8dcdd9e-2956-48c8-b62b-ecfd0ecd60a7",
   "metadata": {},
   "source": [
    "Here preprocess completes\n"
   ]
  },
  {
   "cell_type": "code",
   "execution_count": 83,
   "id": "052a0d5e-b6fb-4b0b-b7c0-60b3a7e6811d",
   "metadata": {},
   "outputs": [
    {
     "data": {
      "text/plain": [
       "<matplotlib.collections.PathCollection at 0x1e859687d40>"
      ]
     },
     "execution_count": 83,
     "metadata": {},
     "output_type": "execute_result"
    },
    {
     "data": {
      "image/png": "[encoded data removed]",
      "text/plain": [
       "<Figure size 640x480 with 1 Axes>"
      ]
     },
     "metadata": {},
     "output_type": "display_data"
    }
   ],
   "source": [
    "plt.scatter(df['cgpa'],df['iq'],c=df['placement'])\n"
   ]
  },
  {
   "cell_type": "markdown",
   "id": "181bb581-7dc7-457c-a1d2-b39ae7b31497",
   "metadata": {},
   "source": [
    "EDA Completed"
   ]
  },
  {
   "cell_type": "code",
   "execution_count": 86,
   "id": "a3c0136f-124b-4a1e-8312-460708db4d19",
   "metadata": {},
   "outputs": [],
   "source": [
    "x=df.iloc[:,0:2]\n",
    "y=df.iloc[:,-1]"
   ]
  },
  {
   "cell_type": "code",
   "execution_count": 90,
   "id": "12f2ad21-a121-412d-bfae-39518711a47e",
   "metadata": {},
   "outputs": [
    {
     "data": {
      "text/html": [
       "<div>\n",
       "<style scoped>\n",
       "    .dataframe tbody tr th:only-of-type {\n",
       "        vertical-align: middle;\n",
       "    }\n",
       "\n",
       "    .dataframe tbody tr th {\n",
       "        vertical-align: top;\n",
       "    }\n",
       "\n",
       "    .dataframe thead th {\n",
       "        text-align: right;\n",
       "    }\n",
       "</style>\n",
       "<table border=\"1\" class=\"dataframe\">\n",
       "  <thead>\n",
       "    <tr style=\"text-align: right;\">\n",
       "      <th></th>\n",
       "      <th>cgpa</th>\n",
       "      <th>iq</th>\n",
       "    </tr>\n",
       "  </thead>\n",
       "  <tbody>\n",
       "    <tr>\n",
       "      <th>0</th>\n",
       "      <td>6.8</td>\n",
       "      <td>123.0</td>\n",
       "    </tr>\n",
       "    <tr>\n",
       "      <th>1</th>\n",
       "      <td>5.9</td>\n",
       "      <td>106.0</td>\n",
       "    </tr>\n",
       "    <tr>\n",
       "      <th>2</th>\n",
       "      <td>5.3</td>\n",
       "      <td>121.0</td>\n",
       "    </tr>\n",
       "    <tr>\n",
       "      <th>3</th>\n",
       "      <td>7.4</td>\n",
       "      <td>132.0</td>\n",
       "    </tr>\n",
       "    <tr>\n",
       "      <th>4</th>\n",
       "      <td>5.8</td>\n",
       "      <td>142.0</td>\n",
       "    </tr>\n",
       "    <tr>\n",
       "      <th>...</th>\n",
       "      <td>...</td>\n",
       "      <td>...</td>\n",
       "    </tr>\n",
       "    <tr>\n",
       "      <th>95</th>\n",
       "      <td>4.3</td>\n",
       "      <td>200.0</td>\n",
       "    </tr>\n",
       "    <tr>\n",
       "      <th>96</th>\n",
       "      <td>4.4</td>\n",
       "      <td>42.0</td>\n",
       "    </tr>\n",
       "    <tr>\n",
       "      <th>97</th>\n",
       "      <td>6.7</td>\n",
       "      <td>182.0</td>\n",
       "    </tr>\n",
       "    <tr>\n",
       "      <th>98</th>\n",
       "      <td>6.3</td>\n",
       "      <td>103.0</td>\n",
       "    </tr>\n",
       "    <tr>\n",
       "      <th>99</th>\n",
       "      <td>6.2</td>\n",
       "      <td>113.0</td>\n",
       "    </tr>\n",
       "  </tbody>\n",
       "</table>\n",
       "<p>100 rows × 2 columns</p>\n",
       "</div>"
      ],
      "text/plain": [
       "    cgpa     iq\n",
       "0    6.8  123.0\n",
       "1    5.9  106.0\n",
       "2    5.3  121.0\n",
       "3    7.4  132.0\n",
       "4    5.8  142.0\n",
       "..   ...    ...\n",
       "95   4.3  200.0\n",
       "96   4.4   42.0\n",
       "97   6.7  182.0\n",
       "98   6.3  103.0\n",
       "99   6.2  113.0\n",
       "\n",
       "[100 rows x 2 columns]"
      ]
     },
     "execution_count": 90,
     "metadata": {},
     "output_type": "execute_result"
    }
   ],
   "source": [
    "x"
   ]
  },
  {
   "cell_type": "code",
   "execution_count": 93,
   "id": "3184c179-0717-4acc-8a51-a495f3e93533",
   "metadata": {},
   "outputs": [
    {
     "data": {
      "text/plain": [
       "0     1\n",
       "1     0\n",
       "2     0\n",
       "3     1\n",
       "4     0\n",
       "     ..\n",
       "95    0\n",
       "96    0\n",
       "97    1\n",
       "98    1\n",
       "99    1\n",
       "Name: placement, Length: 100, dtype: int64"
      ]
     },
     "execution_count": 93,
     "metadata": {},
     "output_type": "execute_result"
    }
   ],
   "source": [
    "y"
   ]
  },
  {
   "cell_type": "markdown",
   "id": "276375cb-4ce5-473e-9333-91bbe690b687",
   "metadata": {},
   "source": [
    "Here Extract input AND OUTPUT columns are splitted"
   ]
  },
  {
   "cell_type": "code",
   "execution_count": 100,
   "id": "01ef8256-8a2a-4868-a443-c792fd06726f",
   "metadata": {},
   "outputs": [],
   "source": [
    "from sklearn.model_selection import train_test_split\n",
    "\n",
    "x_train,x_test,y_train,y_test = train_test_split(x,y,test_size=0.1)"
   ]
  },
  {
   "cell_type": "code",
   "execution_count": 102,
   "id": "c50ce8b2-ec2e-4e98-87af-2fcacd57cdc1",
   "metadata": {},
   "outputs": [
    {
     "data": {
      "text/html": [
       "<div>\n",
       "<style scoped>\n",
       "    .dataframe tbody tr th:only-of-type {\n",
       "        vertical-align: middle;\n",
       "    }\n",
       "\n",
       "    .dataframe tbody tr th {\n",
       "        vertical-align: top;\n",
       "    }\n",
       "\n",
       "    .dataframe thead th {\n",
       "        text-align: right;\n",
       "    }\n",
       "</style>\n",
       "<table border=\"1\" class=\"dataframe\">\n",
       "  <thead>\n",
       "    <tr style=\"text-align: right;\">\n",
       "      <th></th>\n",
       "      <th>cgpa</th>\n",
       "      <th>iq</th>\n",
       "    </tr>\n",
       "  </thead>\n",
       "  <tbody>\n",
       "    <tr>\n",
       "      <th>38</th>\n",
       "      <td>6.5</td>\n",
       "      <td>160.0</td>\n",
       "    </tr>\n",
       "    <tr>\n",
       "      <th>50</th>\n",
       "      <td>3.5</td>\n",
       "      <td>233.0</td>\n",
       "    </tr>\n",
       "    <tr>\n",
       "      <th>84</th>\n",
       "      <td>5.7</td>\n",
       "      <td>169.0</td>\n",
       "    </tr>\n",
       "    <tr>\n",
       "      <th>19</th>\n",
       "      <td>5.2</td>\n",
       "      <td>132.0</td>\n",
       "    </tr>\n",
       "    <tr>\n",
       "      <th>65</th>\n",
       "      <td>8.1</td>\n",
       "      <td>166.0</td>\n",
       "    </tr>\n",
       "    <tr>\n",
       "      <th>...</th>\n",
       "      <td>...</td>\n",
       "      <td>...</td>\n",
       "    </tr>\n",
       "    <tr>\n",
       "      <th>40</th>\n",
       "      <td>4.9</td>\n",
       "      <td>134.0</td>\n",
       "    </tr>\n",
       "    <tr>\n",
       "      <th>62</th>\n",
       "      <td>6.0</td>\n",
       "      <td>102.0</td>\n",
       "    </tr>\n",
       "    <tr>\n",
       "      <th>55</th>\n",
       "      <td>7.8</td>\n",
       "      <td>114.0</td>\n",
       "    </tr>\n",
       "    <tr>\n",
       "      <th>14</th>\n",
       "      <td>6.1</td>\n",
       "      <td>103.0</td>\n",
       "    </tr>\n",
       "    <tr>\n",
       "      <th>54</th>\n",
       "      <td>6.4</td>\n",
       "      <td>141.0</td>\n",
       "    </tr>\n",
       "  </tbody>\n",
       "</table>\n",
       "<p>90 rows × 2 columns</p>\n",
       "</div>"
      ],
      "text/plain": [
       "    cgpa     iq\n",
       "38   6.5  160.0\n",
       "50   3.5  233.0\n",
       "84   5.7  169.0\n",
       "19   5.2  132.0\n",
       "65   8.1  166.0\n",
       "..   ...    ...\n",
       "40   4.9  134.0\n",
       "62   6.0  102.0\n",
       "55   7.8  114.0\n",
       "14   6.1  103.0\n",
       "54   6.4  141.0\n",
       "\n",
       "[90 rows x 2 columns]"
      ]
     },
     "execution_count": 102,
     "metadata": {},
     "output_type": "execute_result"
    }
   ],
   "source": [
    "x_train"
   ]
  },
  {
   "cell_type": "code",
   "execution_count": 104,
   "id": "9f722d36-318e-4cf1-bf13-7b15ecbf00bb",
   "metadata": {},
   "outputs": [],
   "source": [
    "from sklearn.preprocessing import StandardScaler"
   ]
  },
  {
   "cell_type": "code",
   "execution_count": 114,
   "id": "d9357bf5-0f1d-4488-a68b-493b47464932",
   "metadata": {},
   "outputs": [],
   "source": [
    "scaler = StandardScaler()             \n",
    "x_train = scaler.fit_transform(x_train)\n",
    "x_test = scaler.transform(x_test) "
   ]
  },
  {
   "cell_type": "code",
   "execution_count": 116,
   "id": "472bddc8-a1c4-417e-8ebc-83d09db8a24a",
   "metadata": {},
   "outputs": [
    {
     "data": {
      "text/plain": [
       "array([[ 0.44147571,  0.89122303],\n",
       "       [-2.12745621,  2.70908559],\n",
       "       [-0.2435728 ,  1.11534307],\n",
       "       [-0.67172812,  0.19396068],\n",
       "       [ 1.81157273,  1.04063639],\n",
       "       [-0.500466  , -0.42859499],\n",
       "       [-1.01425238,  1.11534307],\n",
       "       [ 0.86963103,  1.86240988],\n",
       "       [ 0.01332039, -1.97253306],\n",
       "       [-0.500466  ,  0.36827627],\n",
       "       [ 1.29778635,  0.84141858],\n",
       "       [-0.67172812,  2.48496555],\n",
       "       [ 0.09895145, -1.47448852],\n",
       "       [-0.2435728 ,  0.46788517],\n",
       "       [ 0.78399996,  0.34337404],\n",
       "       [-0.58609706, -0.25427941],\n",
       "       [ 1.21215528,  0.19396068],\n",
       "       [-0.84299025, -1.52429297],\n",
       "       [ 0.52710677,  0.34337404],\n",
       "       [ 0.44147571,  0.14415622],\n",
       "       [-0.75735919,  1.28965866],\n",
       "       [-0.58609706, -0.07996382],\n",
       "       [ 0.09895145, -1.07605289],\n",
       "       [ 1.29778635,  0.14415622],\n",
       "       [ 0.01332039, -0.00525714],\n",
       "       [-0.75735919, -1.44958629],\n",
       "       [ 0.78399996, -0.70251949],\n",
       "       [ 0.52710677, -0.10486604],\n",
       "       [-0.2435728 ,  0.39317849],\n",
       "       [-0.07231068, -0.45349722],\n",
       "       [-0.75735919,  0.09435177],\n",
       "       [ 0.86963103, -0.30408386],\n",
       "       [-0.92862132,  1.7877032 ],\n",
       "       [-0.15794174,  1.04063639],\n",
       "       [ 0.09895145,  0.79161412],\n",
       "       [-2.29871834,  1.46397425],\n",
       "       [ 0.95526209, -1.89782638],\n",
       "       [ 1.72594167, -1.12585735],\n",
       "       [ 0.6983689 , -0.30408386],\n",
       "       [ 1.12652422,  0.31847181],\n",
       "       [ 1.38341741, -0.87683508],\n",
       "       [-1.18551451,  0.54259185],\n",
       "       [ 0.6983689 ,  0.41808072],\n",
       "       [-0.92862132,  0.66710299],\n",
       "       [-1.01425238, -0.30408386],\n",
       "       [-0.15794174,  0.44298295],\n",
       "       [-0.67172812, -0.85193285],\n",
       "       [-1.35677664,  0.61729853],\n",
       "       [ 0.86963103, -1.49939075],\n",
       "       [-0.67172812,  0.91612526],\n",
       "       [-1.69930089, -1.22546625],\n",
       "       [ 1.12652422, -0.20447495],\n",
       "       [ 1.98283486,  1.09044084],\n",
       "       [ 0.27021358,  0.09435177],\n",
       "       [-1.69930089, -0.60291058],\n",
       "       [-1.78493196, -0.37879054],\n",
       "       [-0.84299025, -0.1546705 ],\n",
       "       [ 2.15409699, -0.10486604],\n",
       "       [ 0.78399996,  0.36827627],\n",
       "       [ 0.35584464, -0.20447495],\n",
       "       [-1.09988344, -0.07996382],\n",
       "       [ 0.44147571, -0.85193285],\n",
       "       [-1.09988344, -1.79821747],\n",
       "       [ 0.44147571, -2.17175087],\n",
       "       [ 0.01332039,  0.61729853],\n",
       "       [-0.92862132, -1.57409743],\n",
       "       [-0.500466  ,  0.26866736],\n",
       "       [ 1.81157273,  0.61729853],\n",
       "       [ 0.86963103,  1.26475643],\n",
       "       [ 0.01332039, -1.44958629],\n",
       "       [-1.09988344, -0.92663953],\n",
       "       [ 1.29778635, -1.57409743],\n",
       "       [-1.01425238,  0.96592971],\n",
       "       [ 0.61273784,  0.74180967],\n",
       "       [ 0.18458252, -0.27918163],\n",
       "       [ 0.27021358,  0.06944954],\n",
       "       [-0.84299025, -0.82703062],\n",
       "       [-0.92862132,  0.7667119 ],\n",
       "       [ 1.12652422, -1.84802192],\n",
       "       [-0.92862132, -0.10486604],\n",
       "       [ 1.12652422, -0.95154176],\n",
       "       [ 0.86963103,  0.36827627],\n",
       "       [-1.01425238,  0.41808072],\n",
       "       [-1.4424077 ,  1.8873121 ],\n",
       "       [ 1.38341741,  0.09435177],\n",
       "       [-0.92862132,  0.24376513],\n",
       "       [ 0.01332039, -0.55310613],\n",
       "       [ 1.55467954, -0.25427941],\n",
       "       [ 0.09895145, -0.5282039 ],\n",
       "       [ 0.35584464,  0.41808072]])"
      ]
     },
     "execution_count": 116,
     "metadata": {},
     "output_type": "execute_result"
    }
   ],
   "source": [
    "x_train"
   ]
  },
  {
   "cell_type": "code",
   "execution_count": null,
   "id": "01cd13a2-053a-4c0f-a0dd-457ae92a6cbd",
   "metadata": {},
   "outputs": [],
   "source": [
    "#Model Training\n",
    "from sklearn.linear_model import LogisticRegression\n",
    "\n",
    "clf = LogisticRegression()\n",
    "clf.fit(x_train,y_train)\n"
   ]
  },
  {
   "cell_type": "code",
   "execution_count": 142,
   "id": "4c93708c-039c-4fb2-953d-2c0a9031641c",
   "metadata": {},
   "outputs": [],
   "source": [
    "y_pred = clf.predict(x_test)"
   ]
  },
  {
   "cell_type": "code",
   "execution_count": 148,
   "id": "3060c3b6-dffe-4ebc-b392-a59e54199d86",
   "metadata": {},
   "outputs": [
    {
     "data": {
      "text/plain": [
       "71    1\n",
       "21    1\n",
       "87    1\n",
       "35    1\n",
       "98    1\n",
       "96    0\n",
       "97    1\n",
       "0     1\n",
       "92    0\n",
       "41    0\n",
       "Name: placement, dtype: int64"
      ]
     },
     "execution_count": 148,
     "metadata": {},
     "output_type": "execute_result"
    }
   ],
   "source": [
    "y_test"
   ]
  },
  {
   "cell_type": "code",
   "execution_count": 150,
   "id": "5580113b-ab47-48ae-a0f4-2a4e6a43a359",
   "metadata": {},
   "outputs": [],
   "source": [
    "from sklearn.metrics import accuracy_score"
   ]
  },
  {
   "cell_type": "code",
   "execution_count": 152,
   "id": "039868f9-4a25-48ac-a7d7-d260ec9ef7ee",
   "metadata": {},
   "outputs": [
    {
     "data": {
      "text/plain": [
       "0.9"
      ]
     },
     "execution_count": 152,
     "metadata": {},
     "output_type": "execute_result"
    }
   ],
   "source": [
    "accuracy_score(y_test,y_pred)"
   ]
  },
  {
   "cell_type": "code",
   "execution_count": 158,
   "id": "b0d0124b-9156-4ac9-9c16-44b3019dd2b5",
   "metadata": {},
   "outputs": [],
   "source": [
    "from mlxtend.plotting import plot_decision_regions"
   ]
  },
  {
   "cell_type": "code",
   "execution_count": 160,
   "id": "9903a269-cb2f-4202-9fc3-515a085612cf",
   "metadata": {},
   "outputs": [
    {
     "data": {
      "text/plain": [
       "<Axes: >"
      ]
     },
     "execution_count": 160,
     "metadata": {},
     "output_type": "execute_result"
    },
    {
     "data": {
      "image/png": "[encoded data removed]",
      "text/plain": [
       "<Figure size 640x480 with 1 Axes>"
      ]
     },
     "metadata": {},
     "output_type": "display_data"
    }
   ],
   "source": [
    "plot_decision_regions(x_train,y_train.values ,clf=clf,legend=2)"
   ]
  },
  {
   "cell_type": "code",
   "execution_count": 162,
   "id": "4dfa0d1b-033c-478b-9f4b-885ebfdca5ca",
   "metadata": {},
   "outputs": [],
   "source": [
    "import pickle"
   ]
  },
  {
   "cell_type": "code",
   "execution_count": 164,
   "id": "21a66893-ff24-4b1b-a14a-f497296f6aa3",
   "metadata": {},
   "outputs": [],
   "source": [
    "pickle.dump(clf,open('model.pkl','wb'))"
   ]
  },
  {
   "cell_type": "code",
   "execution_count": null,
   "id": "d4e2b5dd-b132-4822-8e0a-d49cc29ea072",
   "metadata": {},
   "outputs": [],
   "source": []
  }
 ],
 "metadata": {
  "kernelspec": {
   "display_name": "Python [conda env:base] *",
   "language": "python",
   "name": "conda-base-py"
  },
  "language_info": {
   "codemirror_mode": {
    "name": "ipython",
    "version": 3
   },
   "file_extension": ".py",
   "mimetype": "text/x-python",
   "name": "python",
   "nbconvert_exporter": "python",
   "pygments_lexer": "ipython3",
   "version": "3.12.7"
  }
 },
 "nbformat": 4,
 "nbformat_minor": 5
}
